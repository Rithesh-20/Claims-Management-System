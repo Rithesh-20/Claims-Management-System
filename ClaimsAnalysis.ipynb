{
 "cells": [
  {
   "cell_type": "markdown",
   "metadata": {},
   "source": [
    "# Claims Analysis Project - Everwell Assurance Group\n",
    "### Author: Rithesh R | Data Analyst"
   ]
  },
  {
   "cell_type": "code",
   "execution_count": null,
   "metadata": {},
   "outputs": [],
   "source": [
    "import pandas as pd\n",
    "import numpy as np\n",
    "import matplotlib.pyplot as plt\n",
    "import seaborn as sns\n",
    "\n",
    "# Load Data\n",
    "df = pd.read_csv('claims_data.csv')\n",
    "print('Data loaded successfully ✅')\n",
    "df.head()"
   ]
  },
  {
   "cell_type": "code",
   "execution_count": null,
   "metadata": {},
   "outputs": [],
   "source": [
    "# Explore Data\n",
    "df.info()\n",
    "df.describe()\n",
    "df.isnull().sum()"
   ]
  },
  {
   "cell_type": "code",
   "execution_count": null,
   "metadata": {},
   "outputs": [],
   "source": [
    "# Data Cleaning\n",
    "df['ClaimAmount'] = df['ClaimAmount'].fillna(df['ClaimAmount'].median())\n",
    "df['Status'] = df['Status'].fillna('Pending')"
   ]
  },
  {
   "cell_type": "code",
   "execution_count": null,
   "metadata": {},
   "outputs": [],
   "source": [
    "# Feature Engineering\n",
    "df['ProcessingTime'] = (pd.to_datetime(df['SettlementDate']) - pd.to_datetime(df['SubmissionDate'])).dt.days\n",
    "df['FraudFlag'] = np.where(df['ClaimAmount'] > df['ClaimAmount'].quantile(0.95), 1, 0)"
   ]
  },
  {
   "cell_type": "code",
   "execution_count": null,
   "metadata": {},
   "outputs": [],
   "source": [
    "# Exploratory Data Analysis\n",
    "plt.figure(figsize=(8,5))\n",
    "sns.histplot(df['ProcessingTime'], bins=30)\n",
    "plt.title('Distribution of Claim Processing Time')\n",
    "plt.show()\n",
    "\n",
    "plt.figure(figsize=(6,4))\n",
    "sns.boxplot(x='ClaimType', y='ClaimAmount', data=df)\n",
    "plt.title('Claim Amount by Type')\n",
    "plt.show()"
   ]
  },
  {
   "cell_type": "code",
   "execution_count": null,
   "metadata": {},
   "outputs": [],
   "source": [
    "# Fraud Analysis\n",
    "fraud_summary = df.groupby('ClaimType')['FraudFlag'].mean().sort_values(ascending=False)\n",
    "print(fraud_summary)"
   ]
  },
  {
   "cell_type": "code",
   "execution_count": null,
   "metadata": {},
   "outputs": [],
   "source": [
    "# KPI Summary\n",
    "avg_processing = df['ProcessingTime'].mean()\n",
    "fraud_rate = df['FraudFlag'].mean() * 100\n",
    "print(f'Average Processing Time: {avg_processing:.2f} days')\n",
    "print(f'Fraud Rate: {fraud_rate:.2f}%')"
   ]
  },
  {
   "cell_type": "code",
   "execution_count": null,
   "metadata": {},
   "outputs": [],
   "source": [
    "# Save Cleaned Data\n",
    "df.to_csv('claims_data_cleaned.csv', index=False)\n",
    "print('Cleaned data saved ✅')"
   ]
  }
 ],
 "metadata": {
  "kernelspec": {
   "display_name": "Python 3",
   "language": "python",
   "name": "python3"
  },
  "language_info": {
   "name": "python",
   "version": "3.x"
  }
 },
 "nbformat": 4,
 "nbformat_minor": 2
}
